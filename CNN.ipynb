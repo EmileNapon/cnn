{
 "cells": [
  {
   "cell_type": "code",
   "execution_count": 1,
   "id": "4f77f8ff",
   "metadata": {},
   "outputs": [],
   "source": [
    "from keras.models import Sequential\n",
    "from keras.layers import Conv2D\n",
    "from keras.layers import MaxPooling2D\n",
    "from keras.layers import Flatten\n",
    "from keras.layers import Dense\n",
    "import tensorflow as tf\n",
    "import numpy as np"
   ]
  },
  {
   "cell_type": "code",
   "execution_count": 2,
   "id": "0ed01639",
   "metadata": {},
   "outputs": [],
   "source": [
    "classifier = Sequential()\n",
    "\n",
    "\n",
    "# Step 1 - Convolution\n",
    "classifier.add(Conv2D(filters=96, kernel_size=(2, 2), input_shape = (227, 227, 3), activation = 'relu',padding=\"same\"))\n",
    "# Step 2 - Pooling\n",
    "classifier.add(MaxPooling2D(pool_size = (3 ,3),padding=\"same\"))\n",
    "\n",
    "\n",
    "# Adding a second convolutional layer\n",
    "#classifier.add(Conv2D(256, (5, 5), activation = 'relu',padding=\"same\"))\n",
    "#classifier.add(MaxPooling2D(pool_size = (3 ,3),padding=\"same\"))\n",
    "\n",
    "\n",
    "#classifier.add(Conv2D(384, (3, 3), activation = 'relu',padding=\"same\"))\n",
    "#classifier.add(Conv2D(384, (3, 3), activation = 'relu',padding=\"same\"))\n",
    "\n",
    "\n",
    "#classifier.add(Conv2D(256, (3, 3), activation = 'relu',padding=\"same\"))\n",
    "#classifier.add(MaxPooling2D(pool_size = (3 ,3),padding=\"same\"))\n",
    "\n",
    "\n",
    "\n",
    "# Step 3 - Flattening\n",
    "classifier.add(Flatten())\n",
    "\n",
    "\n",
    "# Step 4 - Full connection\n",
    "#classifier.add(Dense(units = 9216, activation = 'relu'))\n",
    "#classifier.add(Dense(units = 4096, activation = 'relu'))\n",
    "classifier.add(Dense(units = 4096, activation = 'relu'))\n",
    "classifier.add(Dense(units = 2, activation = 'softmax'))\n",
    "\n",
    "\n",
    "# Compiling the CNN\n",
    "classifier.compile(optimizer = 'adam', loss = 'sparse_categorical_crossentropy', metrics = ['accuracy'])\n"
   ]
  },
  {
   "cell_type": "code",
   "execution_count": null,
   "id": "583e74ce",
   "metadata": {},
   "outputs": [],
   "source": [
    "from keras.preprocessing.image import ImageDataGenerator\n",
    "train_datagen = ImageDataGenerator(rescale = 1./255,shear_range = 0.2,zoom_range = 0.2,horizontal_flip = True)\n",
    "test_datagen = ImageDataGenerator(rescale = 1./255)\n",
    "training_set = train_datagen.flow_from_directory('training_set', target_size = (227, 227),batch_size = 52, class_mode = 'binary')\n",
    "test_set = test_datagen.flow_from_directory('test_set', target_size = (227, 227),batch_size = 52, class_mode = 'binary')\n"
   ]
  },
  {
   "cell_type": "code",
   "execution_count": 2,
   "id": "81066b14",
   "metadata": {},
   "outputs": [
    {
     "data": {
      "text/plain": [
       "<keras.preprocessing.image.DirectoryIterator at 0x22fa51f38b0>"
      ]
     },
     "execution_count": 2,
     "metadata": {},
     "output_type": "execute_result"
    }
   ],
   "source": [
    "test_set"
   ]
  },
  {
   "cell_type": "code",
   "execution_count": null,
   "id": "522fdce6",
   "metadata": {},
   "outputs": [],
   "source": [
    "classifier.fit(training_set,steps_per_epoch = 8000/96,epochs = 10,validation_data = test_set,validation_steps = 2000)\n"
   ]
  },
  {
   "cell_type": "code",
   "execution_count": 6,
   "id": "c3401179",
   "metadata": {},
   "outputs": [
    {
     "name": "stdout",
     "output_type": "stream",
     "text": [
      "Model: \"sequential\"\n",
      "_________________________________________________________________\n",
      " Layer (type)                Output Shape              Param #   \n",
      "=================================================================\n",
      " conv2d (Conv2D)             (None, 62, 62, 32)        896       \n",
      "                                                                 \n",
      " max_pooling2d (MaxPooling2D  (None, 31, 31, 32)       0         \n",
      " )                                                               \n",
      "                                                                 \n",
      " conv2d_1 (Conv2D)           (None, 29, 29, 32)        9248      \n",
      "                                                                 \n",
      " max_pooling2d_1 (MaxPooling  (None, 14, 14, 32)       0         \n",
      " 2D)                                                             \n",
      "                                                                 \n",
      " flatten (Flatten)           (None, 6272)              0         \n",
      "                                                                 \n",
      " dense (Dense)               (None, 128)               802944    \n",
      "                                                                 \n",
      " dense_1 (Dense)             (None, 1)                 129       \n",
      "                                                                 \n",
      "=================================================================\n",
      "Total params: 813,217\n",
      "Trainable params: 813,217\n",
      "Non-trainable params: 0\n",
      "_________________________________________________________________\n"
     ]
    }
   ],
   "source": [
    "classifier.summary()"
   ]
  },
  {
   "cell_type": "code",
   "execution_count": null,
   "id": "34f5e1b5",
   "metadata": {},
   "outputs": [],
   "source": []
  }
 ],
 "metadata": {
  "kernelspec": {
   "display_name": "Python 3 (ipykernel)",
   "language": "python",
   "name": "python3"
  },
  "language_info": {
   "codemirror_mode": {
    "name": "ipython",
    "version": 3
   },
   "file_extension": ".py",
   "mimetype": "text/x-python",
   "name": "python",
   "nbconvert_exporter": "python",
   "pygments_lexer": "ipython3",
   "version": "3.10.9"
  }
 },
 "nbformat": 4,
 "nbformat_minor": 5
}
